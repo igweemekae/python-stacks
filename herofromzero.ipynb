{
 "cells": [
  {
   "cell_type": "code",
   "execution_count": 2,
   "id": "fa60595f",
   "metadata": {},
   "outputs": [
    {
     "name": "stdout",
     "output_type": "stream",
     "text": [
      "Welcome to the store!\n"
     ]
    }
   ],
   "source": [
    "loc = 'Store'\n",
    "\n",
    "if loc == 'Auto Shop':\n",
    "    print(\"Cars are cool!\")\n",
    "elif loc == 'Bank':\n",
    "    print(\"Money is cool!\")\n",
    "elif loc == \"Store\":\n",
    "    print(\"Welcome to the store!\")\n",
    "else: \n",
    "    print(\"I do not know much.\")"
   ]
  },
  {
   "cell_type": "markdown",
   "id": "3db41322",
   "metadata": {},
   "source": [
    "# Loops "
   ]
  },
  {
   "cell_type": "code",
   "execution_count": 5,
   "id": "e50e9f38",
   "metadata": {},
   "outputs": [],
   "source": [
    "# iterable objects means you can iterate over the object \n",
    "# We can work through each item of the object and carry out actions on it"
   ]
  },
  {
   "cell_type": "code",
   "execution_count": 13,
   "id": "6c9a95d9",
   "metadata": {},
   "outputs": [
    {
     "name": "stdout",
     "output_type": "stream",
     "text": [
      "1\n",
      "2\n",
      "3\n",
      "4\n",
      "5\n",
      "6\n",
      "7\n",
      "8\n",
      "9\n"
     ]
    }
   ],
   "source": [
    "#FOR LOOP\n",
    "\n",
    "mylist = [1, 2, 3, 4, 5, 6, 7, 8, 9]\n",
    "\n",
    "for item in mylist:\n",
    "    print(item)"
   ]
  },
  {
   "cell_type": "markdown",
   "id": "7ea23cac",
   "metadata": {},
   "source": [
    "# Control Flow"
   ]
  },
  {
   "cell_type": "code",
   "execution_count": 7,
   "id": "236c8073",
   "metadata": {},
   "outputs": [],
   "source": [
    "# key words for control flow: if | elif | else "
   ]
  },
  {
   "cell_type": "code",
   "execution_count": 8,
   "id": "a070c7fc",
   "metadata": {},
   "outputs": [
    {
     "name": "stdout",
     "output_type": "stream",
     "text": [
      "ITS TRUE!\n"
     ]
    }
   ],
   "source": [
    "if True:\n",
    "    print(\"ITS TRUE!\")"
   ]
  },
  {
   "cell_type": "code",
   "execution_count": 9,
   "id": "2a8d7a65",
   "metadata": {},
   "outputs": [
    {
     "name": "stdout",
     "output_type": "stream",
     "text": [
      "FEED ME!\n"
     ]
    }
   ],
   "source": [
    "hungry = True\n",
    "\n",
    "if hungry:\n",
    "    print('FEED ME!')"
   ]
  },
  {
   "cell_type": "code",
   "execution_count": 11,
   "id": "41ab553a",
   "metadata": {},
   "outputs": [
    {
     "name": "stdout",
     "output_type": "stream",
     "text": [
      "Money is cool!\n"
     ]
    }
   ],
   "source": [
    "loc = 'Bank'\n",
    "\n",
    "if loc == 'Auto Shop':\n",
    "    print(\"Cars are cool!\")\n",
    "elif loc == \"Bank\":\n",
    "    print(\"Money is cool!\")\n",
    "elif loc == \"Store\":\n",
    "    print(\"Welcomoe to the store\")\n",
    "else:\n",
    "    print(\"I do not know much\")\n"
   ]
  },
  {
   "cell_type": "code",
   "execution_count": 12,
   "id": "82b734e5",
   "metadata": {},
   "outputs": [
    {
     "name": "stdout",
     "output_type": "stream",
     "text": [
      "Hello Sammy\n"
     ]
    }
   ],
   "source": [
    "name = \"Sammy\"\n",
    "\n",
    "if name == \"Frankie\":\n",
    "    print(\"Hello Frankie!\")\n",
    "elif name == \"Sammy\":\n",
    "    print(\"Hello Sammy\")\n",
    "else: \n",
    "    print(\"Things dey pop\")"
   ]
  },
  {
   "cell_type": "code",
   "execution_count": 14,
   "id": "e717e291",
   "metadata": {},
   "outputs": [
    {
     "name": "stdout",
     "output_type": "stream",
     "text": [
      "45\n"
     ]
    }
   ],
   "source": [
    "sum = 0\n",
    "\n",
    "for num in mylist:\n",
    "    sum = sum + num\n",
    "print(sum)"
   ]
  },
  {
   "cell_type": "code",
   "execution_count": 15,
   "id": "382bd40c",
   "metadata": {},
   "outputs": [
    {
     "name": "stdout",
     "output_type": "stream",
     "text": [
      "H\n",
      "e\n",
      "l\n",
      "l\n",
      "o\n",
      " \n",
      "W\n",
      "o\n",
      "r\n",
      "l\n",
      "d\n"
     ]
    }
   ],
   "source": [
    "mystring = \"Hello World\"\n",
    "\n",
    "for letter in mystring:\n",
    "    print(letter)"
   ]
  },
  {
   "cell_type": "code",
   "execution_count": 16,
   "id": "71d3ca5f",
   "metadata": {},
   "outputs": [
    {
     "name": "stdout",
     "output_type": "stream",
     "text": [
      "1\n",
      "2\n",
      "3\n"
     ]
    }
   ],
   "source": [
    "tup = (1, 2, 3)\n",
    "\n",
    "for item in tup:\n",
    "    print(item)"
   ]
  },
  {
   "cell_type": "code",
   "execution_count": 17,
   "id": "1534980f",
   "metadata": {},
   "outputs": [
    {
     "name": "stdout",
     "output_type": "stream",
     "text": [
      "(1, 2)\n",
      "(3, 4)\n",
      "(5, 6)\n",
      "(7, 8)\n"
     ]
    }
   ],
   "source": [
    "alist = [(1, 2), (3, 4), (5, 6), (7,8)]\n",
    "\n",
    "for item in alist:\n",
    "    print(item)"
   ]
  },
  {
   "cell_type": "code",
   "execution_count": 20,
   "id": "eef64ff2",
   "metadata": {},
   "outputs": [
    {
     "name": "stdout",
     "output_type": "stream",
     "text": [
      "2\n",
      "4\n",
      "6\n",
      "8\n"
     ]
    }
   ],
   "source": [
    "#Tuple Unpacking --- Very IMPORTANT! concept.\n",
    "\n",
    "\n",
    "for a,b in alist:\n",
    "    print(b)"
   ]
  },
  {
   "cell_type": "code",
   "execution_count": 22,
   "id": "9869c6b9",
   "metadata": {},
   "outputs": [
    {
     "name": "stdout",
     "output_type": "stream",
     "text": [
      "k1\n",
      "k2\n",
      "k3\n"
     ]
    }
   ],
   "source": [
    "#Iterate through Dictionary\n",
    "\n",
    "d = {\"k1\": 20, \"k2\": 24, \"k3\": 28}\n",
    "\n",
    "for item in d:\n",
    "    print(item)"
   ]
  },
  {
   "cell_type": "code",
   "execution_count": 23,
   "id": "1499c0c6",
   "metadata": {},
   "outputs": [
    {
     "name": "stdout",
     "output_type": "stream",
     "text": [
      "('k1', 20)\n",
      "('k2', 24)\n",
      "('k3', 28)\n"
     ]
    }
   ],
   "source": [
    "for item in d.items():\n",
    "    print(item)"
   ]
  },
  {
   "cell_type": "code",
   "execution_count": 24,
   "id": "bf11728f",
   "metadata": {},
   "outputs": [
    {
     "name": "stdout",
     "output_type": "stream",
     "text": [
      "1\n",
      "2\n",
      "3\n"
     ]
    }
   ],
   "source": [
    "for key,value in d:\n",
    "    print(value)"
   ]
  },
  {
   "cell_type": "code",
   "execution_count": 25,
   "id": "e7104323",
   "metadata": {},
   "outputs": [
    {
     "name": "stdout",
     "output_type": "stream",
     "text": [
      "20\n",
      "24\n",
      "28\n"
     ]
    }
   ],
   "source": [
    "for key,value in d.items():\n",
    "    print(value)"
   ]
  },
  {
   "cell_type": "markdown",
   "id": "e564c36c",
   "metadata": {},
   "source": [
    "# while loop"
   ]
  },
  {
   "cell_type": "code",
   "execution_count": 26,
   "id": "fdb8fbcb",
   "metadata": {},
   "outputs": [
    {
     "name": "stdout",
     "output_type": "stream",
     "text": [
      "The current value of x is 0\n",
      "The current value of x is 1\n",
      "The current value of x is 2\n",
      "The current value of x is 3\n",
      "The current value of x is 4\n",
      "X is not less than 5\n"
     ]
    }
   ],
   "source": [
    "x = 0\n",
    "\n",
    "while x < 5:\n",
    "    print(f'The current value of x is {x}')\n",
    "    x += 1\n",
    "else:\n",
    "    print('X is not less than 5')"
   ]
  },
  {
   "cell_type": "markdown",
   "id": "516a837a",
   "metadata": {},
   "source": [
    "# break, continue, pass with Loops"
   ]
  },
  {
   "cell_type": "code",
   "execution_count": 28,
   "id": "b46de598",
   "metadata": {},
   "outputs": [],
   "source": [
    "x = [1, 2, 3, 4, 5]\n",
    "\n",
    "#pass - does nothing at all\n",
    "for item in x:\n",
    "    pass"
   ]
  },
  {
   "cell_type": "code",
   "execution_count": 30,
   "id": "3c5d9a4f",
   "metadata": {},
   "outputs": [
    {
     "name": "stdout",
     "output_type": "stream",
     "text": [
      "c\n",
      "h\n",
      "u\n",
      "k\n",
      "w\n",
      "u\n",
      "m\n",
      "r\n",
      "c\n",
      "h\n",
      "i\n"
     ]
    }
   ],
   "source": [
    "#continue: goes to the top of the closest enclosing loop\n",
    "\n",
    "myname = 'chukwuamarachi'\n",
    "\n",
    "for letter in myname:\n",
    "    if letter == \"a\":\n",
    "        continue\n",
    "    print(letter)"
   ]
  },
  {
   "cell_type": "code",
   "execution_count": 32,
   "id": "2cb108e9",
   "metadata": {},
   "outputs": [
    {
     "name": "stdout",
     "output_type": "stream",
     "text": [
      "c\n",
      "h\n",
      "u\n",
      "k\n",
      "w\n",
      "u\n"
     ]
    }
   ],
   "source": [
    "#break - breaks out of the current closest enclosing loop\n",
    "\n",
    "for letter in myname:\n",
    "    if letter == \"a\":\n",
    "        break\n",
    "    print(letter)"
   ]
  },
  {
   "cell_type": "markdown",
   "id": "b3b8f44b",
   "metadata": {},
   "source": [
    "# Range Function "
   ]
  },
  {
   "cell_type": "code",
   "execution_count": 33,
   "id": "09b266c0",
   "metadata": {},
   "outputs": [
    {
     "name": "stdout",
     "output_type": "stream",
     "text": [
      "0\n",
      "3\n",
      "6\n",
      "9\n",
      "12\n",
      "15\n",
      "18\n"
     ]
    }
   ],
   "source": [
    "for num in range(0, 21, 3):\n",
    "    print(num)"
   ]
  },
  {
   "cell_type": "markdown",
   "id": "cfd78ee0",
   "metadata": {},
   "source": [
    "# Enumerate "
   ]
  },
  {
   "cell_type": "code",
   "execution_count": 37,
   "id": "3b08143e",
   "metadata": {},
   "outputs": [
    {
     "name": "stdout",
     "output_type": "stream",
     "text": [
      "at index 0 the leter is a\n",
      "at index 1 the leter is a\n",
      "at index 2 the leter is a\n",
      "at index 3 the leter is a\n",
      "at index 4 the leter is a\n"
     ]
    }
   ],
   "source": [
    "index = 0\n",
    "\n",
    "for letters in 'abcde':\n",
    "    print('at index {} the leter is {}'.format(index, letter))\n",
    "    index += 1"
   ]
  },
  {
   "cell_type": "code",
   "execution_count": 40,
   "id": "b330e439",
   "metadata": {},
   "outputs": [
    {
     "name": "stdout",
     "output_type": "stream",
     "text": [
      "e\n",
      "z\n",
      "e\n",
      "o\n",
      "b\n",
      "i\n",
      "i\n",
      "g\n",
      "w\n",
      "e\n",
      "-\n",
      "c\n",
      "h\n",
      "u\n",
      "k\n",
      "w\n",
      "u\n",
      "a\n",
      "h\n",
      "u\n",
      "f\n",
      "u\n",
      "k\n",
      "w\n",
      "a\n",
      "m\n"
     ]
    }
   ],
   "source": [
    "index = 0\n",
    "word = \"ezeobiigwe-chukwuahufukwam\"\n",
    "\n",
    "for letter in word:\n",
    "    print(word[index])\n",
    "    index += 1"
   ]
  },
  {
   "cell_type": "code",
   "execution_count": 42,
   "id": "09fda708",
   "metadata": {},
   "outputs": [
    {
     "name": "stdout",
     "output_type": "stream",
     "text": [
      "(0, 'e')\n",
      "(1, 'z')\n",
      "(2, 'e')\n",
      "(3, 'o')\n",
      "(4, 'b')\n",
      "(5, 'i')\n",
      "(6, 'i')\n",
      "(7, 'g')\n",
      "(8, 'w')\n",
      "(9, 'e')\n",
      "(10, '-')\n",
      "(11, 'c')\n",
      "(12, 'h')\n",
      "(13, 'u')\n",
      "(14, 'k')\n",
      "(15, 'w')\n",
      "(16, 'u')\n",
      "(17, 'a')\n",
      "(18, 'h')\n",
      "(19, 'u')\n",
      "(20, 'f')\n",
      "(21, 'u')\n",
      "(22, 'k')\n",
      "(23, 'w')\n",
      "(24, 'a')\n",
      "(25, 'm')\n"
     ]
    }
   ],
   "source": [
    "for item in enumerate(word):\n",
    "    print(item)"
   ]
  },
  {
   "cell_type": "code",
   "execution_count": 43,
   "id": "fe038a97",
   "metadata": {},
   "outputs": [
    {
     "name": "stdout",
     "output_type": "stream",
     "text": [
      "0\n",
      "e\n",
      "\n",
      "\n",
      "1\n",
      "z\n",
      "\n",
      "\n",
      "2\n",
      "e\n",
      "\n",
      "\n",
      "3\n",
      "o\n",
      "\n",
      "\n",
      "4\n",
      "b\n",
      "\n",
      "\n",
      "5\n",
      "i\n",
      "\n",
      "\n",
      "6\n",
      "i\n",
      "\n",
      "\n",
      "7\n",
      "g\n",
      "\n",
      "\n",
      "8\n",
      "w\n",
      "\n",
      "\n",
      "9\n",
      "e\n",
      "\n",
      "\n",
      "10\n",
      "-\n",
      "\n",
      "\n",
      "11\n",
      "c\n",
      "\n",
      "\n",
      "12\n",
      "h\n",
      "\n",
      "\n",
      "13\n",
      "u\n",
      "\n",
      "\n",
      "14\n",
      "k\n",
      "\n",
      "\n",
      "15\n",
      "w\n",
      "\n",
      "\n",
      "16\n",
      "u\n",
      "\n",
      "\n",
      "17\n",
      "a\n",
      "\n",
      "\n",
      "18\n",
      "h\n",
      "\n",
      "\n",
      "19\n",
      "u\n",
      "\n",
      "\n",
      "20\n",
      "f\n",
      "\n",
      "\n",
      "21\n",
      "u\n",
      "\n",
      "\n",
      "22\n",
      "k\n",
      "\n",
      "\n",
      "23\n",
      "w\n",
      "\n",
      "\n",
      "24\n",
      "a\n",
      "\n",
      "\n",
      "25\n",
      "m\n",
      "\n",
      "\n"
     ]
    }
   ],
   "source": [
    "for index,letter in enumerate(word):\n",
    "    print(index)\n",
    "    print(letter)\n",
    "    print('\\n')"
   ]
  },
  {
   "cell_type": "markdown",
   "id": "f806af90",
   "metadata": {},
   "source": [
    "# Zip Function"
   ]
  },
  {
   "cell_type": "code",
   "execution_count": 45,
   "id": "33d239df",
   "metadata": {},
   "outputs": [
    {
     "name": "stdout",
     "output_type": "stream",
     "text": [
      "(1, 'a', 100)\n",
      "(2, 'b', 200)\n",
      "(3, 'c', 300)\n"
     ]
    }
   ],
   "source": [
    "#This is used to zip together two or more lists\n",
    "\n",
    "listA = [1, 2, 3]\n",
    "listB = ['a', 'b', 'c']\n",
    "listC = [100, 200, 300]\n",
    "\n",
    "for item in zip(listA, listB, listC):\n",
    "    print(item)"
   ]
  },
  {
   "cell_type": "code",
   "execution_count": 46,
   "id": "006c826e",
   "metadata": {},
   "outputs": [
    {
     "data": {
      "text/plain": [
       "[(1, 'a', 100), (2, 'b', 200), (3, 'c', 300)]"
      ]
     },
     "execution_count": 46,
     "metadata": {},
     "output_type": "execute_result"
    }
   ],
   "source": [
    "list(zip(listA, listB, listC))"
   ]
  },
  {
   "cell_type": "code",
   "execution_count": 47,
   "id": "13b8d7b8",
   "metadata": {},
   "outputs": [
    {
     "data": {
      "text/plain": [
       "True"
      ]
     },
     "execution_count": 47,
     "metadata": {},
     "output_type": "execute_result"
    }
   ],
   "source": [
    "\"mykey\" in {'mykey': 245}"
   ]
  },
  {
   "cell_type": "code",
   "execution_count": 49,
   "id": "fb85116b",
   "metadata": {},
   "outputs": [
    {
     "data": {
      "text/plain": [
       "True"
      ]
     },
     "execution_count": 49,
     "metadata": {},
     "output_type": "execute_result"
    }
   ],
   "source": [
    "'a' in 'chukwuebuka'"
   ]
  },
  {
   "cell_type": "code",
   "execution_count": 50,
   "id": "76208cc6",
   "metadata": {},
   "outputs": [
    {
     "data": {
      "text/plain": [
       "1"
      ]
     },
     "execution_count": 50,
     "metadata": {},
     "output_type": "execute_result"
    }
   ],
   "source": [
    "min(mylist)"
   ]
  },
  {
   "cell_type": "code",
   "execution_count": 51,
   "id": "766cdf00",
   "metadata": {},
   "outputs": [
    {
     "data": {
      "text/plain": [
       "9"
      ]
     },
     "execution_count": 51,
     "metadata": {},
     "output_type": "execute_result"
    }
   ],
   "source": [
    "max(mylist)"
   ]
  },
  {
   "cell_type": "markdown",
   "id": "35dbb8df",
   "metadata": {},
   "source": [
    "# Random Library"
   ]
  },
  {
   "cell_type": "code",
   "execution_count": 52,
   "id": "b14d088a",
   "metadata": {},
   "outputs": [],
   "source": [
    "#To import inbuilt library\n",
    "\n",
    "from random import shuffle"
   ]
  },
  {
   "cell_type": "code",
   "execution_count": 53,
   "id": "11e8d4f5",
   "metadata": {},
   "outputs": [],
   "source": [
    "mylist = [1, 2, 3, 4, 5, 6, 7, 8, 9]\n",
    "shuffle(mylist)"
   ]
  },
  {
   "cell_type": "code",
   "execution_count": 54,
   "id": "e2bd8cd0",
   "metadata": {},
   "outputs": [
    {
     "data": {
      "text/plain": [
       "[7, 6, 3, 5, 9, 8, 4, 2, 1]"
      ]
     },
     "execution_count": 54,
     "metadata": {},
     "output_type": "execute_result"
    }
   ],
   "source": [
    "mylist"
   ]
  },
  {
   "cell_type": "code",
   "execution_count": 55,
   "id": "231bfe94",
   "metadata": {},
   "outputs": [
    {
     "data": {
      "text/plain": [
       "[7, 6, 3, 5, 9, 8, 4, 2, 1]"
      ]
     },
     "execution_count": 55,
     "metadata": {},
     "output_type": "execute_result"
    }
   ],
   "source": [
    "mylist"
   ]
  },
  {
   "cell_type": "code",
   "execution_count": 56,
   "id": "62c34ecc",
   "metadata": {},
   "outputs": [],
   "source": [
    "from random import randint"
   ]
  },
  {
   "cell_type": "code",
   "execution_count": 57,
   "id": "12df0165",
   "metadata": {},
   "outputs": [
    {
     "data": {
      "text/plain": [
       "73"
      ]
     },
     "execution_count": 57,
     "metadata": {},
     "output_type": "execute_result"
    }
   ],
   "source": [
    "randint(0, 100)"
   ]
  },
  {
   "cell_type": "code",
   "execution_count": 58,
   "id": "c5e73ff6",
   "metadata": {},
   "outputs": [
    {
     "data": {
      "text/plain": [
       "3"
      ]
     },
     "execution_count": 58,
     "metadata": {},
     "output_type": "execute_result"
    }
   ],
   "source": [
    "mynum = randint(0, 10)\n",
    "mynum"
   ]
  },
  {
   "cell_type": "code",
   "execution_count": 59,
   "id": "77aa2636",
   "metadata": {},
   "outputs": [
    {
     "name": "stdout",
     "output_type": "stream",
     "text": [
      "What is your name? chukwuemeka\n"
     ]
    }
   ],
   "source": [
    "#to receive an feedback or response from users\n",
    "\n",
    "result = input('What is your name? ')"
   ]
  },
  {
   "cell_type": "code",
   "execution_count": 60,
   "id": "d6b4f013",
   "metadata": {},
   "outputs": [
    {
     "data": {
      "text/plain": [
       "'chukwuemeka'"
      ]
     },
     "execution_count": 60,
     "metadata": {},
     "output_type": "execute_result"
    }
   ],
   "source": [
    "result"
   ]
  },
  {
   "cell_type": "code",
   "execution_count": 61,
   "id": "8d0672a2",
   "metadata": {},
   "outputs": [],
   "source": [
    "# Note that type casting is change a data type to another data type"
   ]
  },
  {
   "cell_type": "markdown",
   "id": "e4870d6f",
   "metadata": {},
   "source": [
    "# List Comprehension"
   ]
  },
  {
   "cell_type": "code",
   "execution_count": 63,
   "id": "bedc5c31",
   "metadata": {},
   "outputs": [],
   "source": [
    "#List comprehension is a unique way of quickly creating a list with Python"
   ]
  },
  {
   "cell_type": "code",
   "execution_count": 64,
   "id": "bc2efc88",
   "metadata": {},
   "outputs": [
    {
     "data": {
      "text/plain": [
       "['h', 'e', 'l', 'l', 'o']"
      ]
     },
     "execution_count": 64,
     "metadata": {},
     "output_type": "execute_result"
    }
   ],
   "source": [
    "mystring = 'hello'\n",
    "\n",
    "mylist = []\n",
    "\n",
    "for letter in mystring:\n",
    "    mylist.append(letter)\n",
    "    \n",
    "mylist"
   ]
  },
  {
   "cell_type": "code",
   "execution_count": 65,
   "id": "38c884b4",
   "metadata": {},
   "outputs": [
    {
     "data": {
      "text/plain": [
       "['h', 'e', 'l', 'l', 'o']"
      ]
     },
     "execution_count": 65,
     "metadata": {},
     "output_type": "execute_result"
    }
   ],
   "source": [
    "#using list comprehension\n",
    "\n",
    "mylist = [letter for letter in mystring]\n",
    "\n",
    "mylist\n",
    "    "
   ]
  },
  {
   "cell_type": "code",
   "execution_count": 66,
   "id": "9b32d5e4",
   "metadata": {},
   "outputs": [
    {
     "data": {
      "text/plain": [
       "['e',\n",
       " 'z',\n",
       " 'e',\n",
       " 'o',\n",
       " 'b',\n",
       " 'i',\n",
       " 'i',\n",
       " 'g',\n",
       " 'w',\n",
       " 'e',\n",
       " '-',\n",
       " 'c',\n",
       " 'h',\n",
       " 'u',\n",
       " 'k',\n",
       " 'w',\n",
       " 'u',\n",
       " 'a',\n",
       " 'h',\n",
       " 'u',\n",
       " 'f',\n",
       " 'u',\n",
       " 'k',\n",
       " 'w',\n",
       " 'a',\n",
       " 'm']"
      ]
     },
     "execution_count": 66,
     "metadata": {},
     "output_type": "execute_result"
    }
   ],
   "source": [
    "mylist = [x for x in word]\n",
    "mylist"
   ]
  },
  {
   "cell_type": "code",
   "execution_count": 67,
   "id": "f5b0c5c1",
   "metadata": {},
   "outputs": [
    {
     "data": {
      "text/plain": [
       "[1, 2, 3, 4, 5, 6, 7, 8, 9, 10]"
      ]
     },
     "execution_count": 67,
     "metadata": {},
     "output_type": "execute_result"
    }
   ],
   "source": [
    "numbers = [num for num in range(1, 11)]\n",
    "numbers"
   ]
  },
  {
   "cell_type": "code",
   "execution_count": 69,
   "id": "362036ed",
   "metadata": {},
   "outputs": [
    {
     "data": {
      "text/plain": [
       "[1, 16, 49, 100, 169, 256, 361]"
      ]
     },
     "execution_count": 69,
     "metadata": {},
     "output_type": "execute_result"
    }
   ],
   "source": [
    "dnumbers = [num **2 for num in range(1, 20, 3)]\n",
    "\n",
    "dnumbers"
   ]
  },
  {
   "cell_type": "markdown",
   "id": "751a440f",
   "metadata": {},
   "source": [
    "# if statement in List comprehension"
   ]
  },
  {
   "cell_type": "code",
   "execution_count": 70,
   "id": "6f250a46",
   "metadata": {},
   "outputs": [
    {
     "data": {
      "text/plain": [
       "[0, 4, 16, 36, 64, 100]"
      ]
     },
     "execution_count": 70,
     "metadata": {},
     "output_type": "execute_result"
    }
   ],
   "source": [
    "mylist = [x**2 for x in range(0, 11) if x % 2 == 0]\n",
    "mylist"
   ]
  },
  {
   "cell_type": "code",
   "execution_count": 71,
   "id": "f2d329ac",
   "metadata": {},
   "outputs": [
    {
     "data": {
      "text/plain": [
       "[32.0, 50.0, 68.0, 86.0, 93.2]"
      ]
     },
     "execution_count": 71,
     "metadata": {},
     "output_type": "execute_result"
    }
   ],
   "source": [
    "celcius = [0, 10, 20, 30, 34]\n",
    "\n",
    "fahrenheit = [((9/5) * temp + 32 ) for temp in celcius]\n",
    "fahrenheit"
   ]
  },
  {
   "cell_type": "markdown",
   "id": "6ee821b8",
   "metadata": {},
   "source": [
    "# if/else in List comprehension"
   ]
  },
  {
   "cell_type": "code",
   "execution_count": 72,
   "id": "dd0f5ccd",
   "metadata": {},
   "outputs": [
    {
     "data": {
      "text/plain": [
       "[0, 'ODD', 2, 'ODD', 4, 'ODD', 6, 'ODD', 8, 'ODD', 10]"
      ]
     },
     "execution_count": 72,
     "metadata": {},
     "output_type": "execute_result"
    }
   ],
   "source": [
    "results = [x if x%2==0 else 'ODD' for x in range(0,11)]\n",
    "\n",
    "results"
   ]
  },
  {
   "cell_type": "markdown",
   "id": "41ef6cca",
   "metadata": {},
   "source": [
    "# Nested Loop "
   ]
  },
  {
   "cell_type": "code",
   "execution_count": 73,
   "id": "d21d6dff",
   "metadata": {},
   "outputs": [],
   "source": [
    "\n",
    "\n",
    "mylist = []\n",
    "\n",
    "for x in [2, 4, 6]:\n",
    "    for y in [100, 200, 300]:\n",
    "        mylist.append(x*y)"
   ]
  },
  {
   "cell_type": "code",
   "execution_count": 74,
   "id": "b67b7497",
   "metadata": {},
   "outputs": [
    {
     "data": {
      "text/plain": [
       "[200, 400, 600, 400, 800, 1200, 600, 1200, 1800]"
      ]
     },
     "execution_count": 74,
     "metadata": {},
     "output_type": "execute_result"
    }
   ],
   "source": [
    "mylist"
   ]
  },
  {
   "cell_type": "code",
   "execution_count": 75,
   "id": "d71a7bfb",
   "metadata": {},
   "outputs": [
    {
     "data": {
      "text/plain": [
       "[2, 20, 2000, 4, 40, 4000, 6, 60, 6000]"
      ]
     },
     "execution_count": 75,
     "metadata": {},
     "output_type": "execute_result"
    }
   ],
   "source": [
    "mylist = [x*y for x in [2, 4, 6] for y in [1, 10, 1000]]\n",
    "mylist"
   ]
  },
  {
   "cell_type": "code",
   "execution_count": null,
   "id": "14b0040a",
   "metadata": {},
   "outputs": [],
   "source": []
  }
 ],
 "metadata": {
  "kernelspec": {
   "display_name": "Python 3 (ipykernel)",
   "language": "python",
   "name": "python3"
  },
  "language_info": {
   "codemirror_mode": {
    "name": "ipython",
    "version": 3
   },
   "file_extension": ".py",
   "mimetype": "text/x-python",
   "name": "python",
   "nbconvert_exporter": "python",
   "pygments_lexer": "ipython3",
   "version": "3.12.2"
  }
 },
 "nbformat": 4,
 "nbformat_minor": 5
}
